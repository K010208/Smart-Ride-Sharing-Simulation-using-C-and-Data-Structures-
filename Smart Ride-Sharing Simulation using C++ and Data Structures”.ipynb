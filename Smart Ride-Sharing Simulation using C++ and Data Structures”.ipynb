{
 "cells": [
  {
   "cell_type": "code",
   "execution_count": 1,
   "id": "9353ffd5-b529-4ac7-a310-977c3adbca10",
   "metadata": {},
   "outputs": [
    {
     "name": "stdout",
     "output_type": "stream",
     "text": [
      "Writing ridesharing.cpp\n"
     ]
    }
   ],
   "source": [
    "%%writefile ridesharing.cpp\n",
    "#include <bits/stdc++.h>\n",
    "using namespace std;\n",
    "\n",
    "// ------------ Driver Structure ------------\n",
    "struct Driver {\n",
    "    int id;\n",
    "    int location;\n",
    "    bool available;\n",
    "};\n",
    "\n",
    "// ------------ Graph Class ------------\n",
    "class Graph {\n",
    "public:\n",
    "    unordered_map<int, vector<pair<int,int>>> adj;\n",
    "\n",
    "    void addEdge(int u, int v, int w) {\n",
    "        adj[u].push_back({v,w});\n",
    "        adj[v].push_back({u,w});\n",
    "    }\n",
    "\n",
    "    int shortestPath(int src, int dest) {\n",
    "        unordered_map<int,int> dist;\n",
    "        for(auto &p: adj) dist[p.first] = INT_MAX;\n",
    "        dist[src] = 0;\n",
    "\n",
    "        priority_queue<pair<int,int>, vector<pair<int,int>>, greater<>> pq;\n",
    "        pq.push({0, src});\n",
    "\n",
    "        while(!pq.empty()) {\n",
    "            auto [d, node] = pq.top(); pq.pop();\n",
    "            if(node == dest) return d;\n",
    "            if(d > dist[node]) continue;\n",
    "\n",
    "            for(auto &nbr: adj[node]) {\n",
    "                int next = nbr.first, weight = nbr.second;\n",
    "                if(dist[node] + weight < dist[next]) {\n",
    "                    dist[next] = dist[node] + weight;\n",
    "                    pq.push({dist[next], next});\n",
    "                }\n",
    "            }\n",
    "        }\n",
    "        return -1;\n",
    "    }\n",
    "};\n",
    "\n",
    "// ------------ Ride Sharing System ------------\n",
    "class RideSharing {\n",
    "    Graph city;\n",
    "    vector<Driver> drivers;\n",
    "\n",
    "public:\n",
    "    RideSharing(Graph g, vector<Driver> d) {\n",
    "        city = g;\n",
    "        drivers = d;\n",
    "    }\n",
    "\n",
    "    void requestRide(int userLocation, int dest) {\n",
    "        int bestDriver = -1;\n",
    "        int minDist = INT_MAX;\n",
    "\n",
    "        for(auto &drv : drivers) {\n",
    "            if(drv.available) {\n",
    "                int dist = city.shortestPath(userLocation, drv.location);\n",
    "                if(dist != -1 && dist < minDist) {\n",
    "                    minDist = dist;\n",
    "                    bestDriver = drv.id;\n",
    "                }\n",
    "            }\n",
    "        }\n",
    "\n",
    "        if(bestDriver == -1) {\n",
    "            cout << \"❌ No driver available right now!\\n\";\n",
    "            return;\n",
    "        }\n",
    "\n",
    "        cout << \"✅ Driver \" << bestDriver << \" assigned. Distance from user = \"\n",
    "             << minDist << \"\\n\";\n",
    "\n",
    "        int tripDistance = city.shortestPath(userLocation, dest);\n",
    "        cout << \"🚖 Trip completed! Distance traveled = \" << tripDistance << \"\\n\";\n",
    "\n",
    "        for(auto &drv : drivers) {\n",
    "            if(drv.id == bestDriver) {\n",
    "                drv.location = dest;\n",
    "                drv.available = true;\n",
    "            }\n",
    "        }\n",
    "    }\n",
    "};\n",
    "\n",
    "// ------------ Main Function ------------\n",
    "int main() {\n",
    "    Graph g;\n",
    "    g.addEdge(1,2,5);\n",
    "    g.addEdge(2,3,10);\n",
    "    g.addEdge(1,4,2);\n",
    "    g.addEdge(4,3,3);\n",
    "\n",
    "    vector<Driver> drivers = {\n",
    "        {1, 2, true},\n",
    "        {2, 4, true},\n",
    "        {3, 3, true}\n",
    "    };\n",
    "\n",
    "    RideSharing app(g, drivers);\n",
    "\n",
    "    cout << \"=== Ride Sharing Simulation ===\\n\";\n",
    "    app.requestRide(1, 3);\n",
    "    app.requestRide(2, 4);\n",
    "    app.requestRide(1, 2);\n",
    "\n",
    "    return 0;\n",
    "}\n"
   ]
  },
  {
   "cell_type": "code",
   "execution_count": 2,
   "id": "bd878e2d-a32b-4c7f-9207-432061475b09",
   "metadata": {},
   "outputs": [
    {
     "name": "stdout",
     "output_type": "stream",
     "text": [
      "\u001b[01m\u001b[Kridesharing.cpp:\u001b[m\u001b[K In member function ‘\u001b[01m\u001b[Kint Graph::shortestPath(int, int)\u001b[m\u001b[K’:\n",
      "\u001b[01m\u001b[Kridesharing.cpp:30:18:\u001b[m\u001b[K \u001b[01;35m\u001b[Kwarning: \u001b[m\u001b[Kstructured bindings only available with ‘\u001b[01m\u001b[K-std=c++17\u001b[m\u001b[K’ or ‘\u001b[01m\u001b[K-std=gnu++17\u001b[m\u001b[K’\n",
      "   30 |             auto \u001b[01;35m\u001b[K[\u001b[m\u001b[Kd, node] = pq.top(); pq.pop();\n",
      "      |                  \u001b[01;35m\u001b[K^\u001b[m\u001b[K\n"
     ]
    }
   ],
   "source": [
    "!g++ ridesharing.cpp -o ridesharing\n"
   ]
  },
  {
   "cell_type": "code",
   "execution_count": 3,
   "id": "315e9652-273c-4e3e-9b1d-d8eac341249e",
   "metadata": {},
   "outputs": [
    {
     "name": "stdout",
     "output_type": "stream",
     "text": [
      "=== Ride Sharing Simulation ===\n",
      "✅ Driver 2 assigned. Distance from user = 2\n",
      "🚖 Trip completed! Distance traveled = 5\n",
      "✅ Driver 1 assigned. Distance from user = 0\n",
      "🚖 Trip completed! Distance traveled = 7\n",
      "✅ Driver 1 assigned. Distance from user = 2\n",
      "🚖 Trip completed! Distance traveled = 5\n"
     ]
    }
   ],
   "source": [
    "!./ridesharing\n"
   ]
  },
  {
   "cell_type": "code",
   "execution_count": null,
   "id": "af317ee8-6807-4144-9626-e44253dfb39b",
   "metadata": {},
   "outputs": [],
   "source": []
  }
 ],
 "metadata": {
  "kernelspec": {
   "display_name": "anaconda-ai-2024.04-py310",
   "language": "python",
   "name": "conda-env-anaconda-ai-2024.04-py310-py"
  },
  "language_info": {
   "codemirror_mode": {
    "name": "ipython",
    "version": 3
   },
   "file_extension": ".py",
   "mimetype": "text/x-python",
   "name": "python",
   "nbconvert_exporter": "python",
   "pygments_lexer": "ipython3",
   "version": "3.10.13"
  }
 },
 "nbformat": 4,
 "nbformat_minor": 5
}
